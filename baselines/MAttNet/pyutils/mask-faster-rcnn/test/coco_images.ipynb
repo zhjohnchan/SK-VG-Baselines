{
 "cells": [
  {
   "cell_type": "code",
   "execution_count": 1,
   "metadata": {
    "collapsed": true
   },
   "outputs": [],
   "source": [
    "from __future__ import absolute_import\n",
    "from __future__ import division\n",
    "from __future__ import print_function\n",
    "\n",
    "import os \n",
    "import os.path as osp\n",
    "import numpy as np\n",
    "import cv2\n",
    "import sys\n",
    "from pprint import pprint\n",
    "\n",
    "sys.path.insert(0, '../tools')\n",
    "import _init_paths\n",
    "from pycocotools.coco import COCO\n",
    "from scipy.misc import imread, imresize\n",
    "\n",
    "import matplotlib.pyplot as plt\n",
    "%matplotlib inline"
   ]
  },
  {
   "cell_type": "code",
   "execution_count": 2,
   "metadata": {},
   "outputs": [
    {
     "name": "stdout",
     "output_type": "stream",
     "text": [
      "loading annotations into memory...\n",
      "Done (t=12.88s)\n",
      "creating index...\n",
      "index created!\n"
     ]
    }
   ],
   "source": [
    "# load train_coco annotations\n",
    "IMAGE_DIR = '../data/coco/images/train2014/'\n",
    "annotation_file = '../data/coco/annotations/instances_train2014.json'\n",
    "train_coco = COCO(annotation_file)"
   ]
  },
  {
   "cell_type": "code",
   "execution_count": 3,
   "metadata": {},
   "outputs": [
    {
     "name": "stdout",
     "output_type": "stream",
     "text": [
      "loading annotations into memory...\n",
      "Done (t=9.04s)\n",
      "creating index...\n",
      "index created!\n"
     ]
    }
   ],
   "source": [
    "# loda val_coco\n",
    "IMAGE_DIR = '../data/coco/images/val2014/'\n",
    "annotation_file = '../data/coco/annotations/instances_val2014.json'\n",
    "val_coco = COCO(annotation_file)"
   ]
  },
  {
   "cell_type": "code",
   "execution_count": 7,
   "metadata": {},
   "outputs": [
    {
     "name": "stdout",
     "output_type": "stream",
     "text": [
      "{u'coco_url': u'http://mscoco.org/images/95025',\n",
      " u'date_captured': u'2013-11-23 01:13:17',\n",
      " u'file_name': u'COCO_train2014_000000095025.jpg',\n",
      " u'flickr_url': u'http://farm7.staticflickr.com/6007/5983430926_4032c48a03_z.jpg',\n",
      " u'height': 381,\n",
      " u'id': 95025,\n",
      " u'license': 3,\n",
      " u'width': 640}\n",
      "http://farm7.staticflickr.com/6007/5983430926_4032c48a03_z.jpg\n",
      "COCO_train2014_000000095025.jpg\n"
     ]
    }
   ],
   "source": [
    "img = train_coco.loadImgs([95025])[0]\n",
    "pprint(img)\n",
    "print(img['flickr_url'])\n",
    "print(img['file_name'])"
   ]
  },
  {
   "cell_type": "code",
   "execution_count": null,
   "metadata": {
    "collapsed": true
   },
   "outputs": [],
   "source": [
    "image_"
   ]
  }
 ],
 "metadata": {
  "kernelspec": {
   "display_name": "Python 2",
   "language": "python",
   "name": "python2"
  },
  "language_info": {
   "codemirror_mode": {
    "name": "ipython",
    "version": 2
   },
   "file_extension": ".py",
   "mimetype": "text/x-python",
   "name": "python",
   "nbconvert_exporter": "python",
   "pygments_lexer": "ipython2",
   "version": "2.7.13"
  },
  "widgets": {
   "state": {},
   "version": "1.1.2"
  }
 },
 "nbformat": 4,
 "nbformat_minor": 2
}
